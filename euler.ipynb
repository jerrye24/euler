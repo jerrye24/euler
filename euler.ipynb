{
  "cells": [
    {
      "metadata": {},
      "cell_type": "markdown",
      "source": "### 1. Multiples of 3 and 5"
    },
    {
      "metadata": {
        "trusted": false
      },
      "cell_type": "code",
      "source": "def sum_multiples_of_3_and_5(max_number):\n    res = sum([i for i in range(max_number) if i % 3 == 0 or i % 5 == 0])\n    return res\n\nprint(sum_multiples_of_3_and_5(1000))",
      "execution_count": 1,
      "outputs": [
        {
          "name": "stdout",
          "output_type": "stream",
          "text": "233168\n"
        }
      ]
    },
    {
      "metadata": {},
      "cell_type": "markdown",
      "source": "### 2. Even Fibonacci numbers"
    },
    {
      "metadata": {
        "trusted": false
      },
      "cell_type": "code",
      "source": "def get_fibonacci(max_number):\n    a, b = 0, 1\n    while a <= max_number:\n        yield a\n        a, b = b, a + b\n\ndef even_fibonacci_number(max_number):\n    res = sum([i for i in get_fibonacci(max_number) if i % 2 == 0])\n    return res\n\nprint(even_fibonacci_number(4_000_000))",
      "execution_count": 2,
      "outputs": [
        {
          "name": "stdout",
          "output_type": "stream",
          "text": "4613732\n"
        }
      ]
    },
    {
      "metadata": {},
      "cell_type": "markdown",
      "source": "### 4. Largest palindrome product"
    },
    {
      "metadata": {
        "trusted": false
      },
      "cell_type": "code",
      "source": "def is_palindrome(number):\n    str_number = str(number)\n    if str_number[::1] == str_number[::-1]:\n        return True\n    return False\n\ndef max_palindrome(number):\n    res = max([i * j for i in range(number) for j in range(number) if is_palindrome(i * j)])\n    return res\n\nprint(max_palindrome(999))",
      "execution_count": 22,
      "outputs": [
        {
          "name": "stdout",
          "output_type": "stream",
          "text": "906609\n"
        }
      ]
    },
    {
      "metadata": {},
      "cell_type": "markdown",
      "source": "### 5. Smalest multiple"
    },
    {
      "metadata": {
        "trusted": false
      },
      "cell_type": "code",
      "source": "def smalest_multiple(start_interval, end_interval):\n    number = end_interval\n    while True:\n        if not any([number % i for i in range(start_interval, end_interval + 1)]):\n            return number\n        else:\n            number += 1\n\nprint(smalest_multiple(1, 20))",
      "execution_count": 32,
      "outputs": []
    },
    {
      "metadata": {},
      "cell_type": "markdown",
      "source": "### 6. Sum square difference"
    },
    {
      "metadata": {
        "trusted": false
      },
      "cell_type": "code",
      "source": "def sum_square_difference(number):\n    sum_of_the_squares = sum([i ** 2 for i in range(1, number + 1)])\n    squares_of_the_sum = sum([j for j in range(1, number + 1)]) ** 2\n    return squares_of_the_sum - sum_of_the_squares\n\nprint(sum_square_difference(100))",
      "execution_count": 35,
      "outputs": [
        {
          "name": "stdout",
          "output_type": "stream",
          "text": "25164150\n"
        }
      ]
    },
    {
      "metadata": {},
      "cell_type": "markdown",
      "source": "### 7. 10001st prime"
    },
    {
      "metadata": {
        "trusted": false
      },
      "cell_type": "code",
      "source": "def is_prime(number):\n    import math\n    for i in range(2, int(math.sqrt(number)) + 1):\n        if number % i == 0:\n            return False\n    return True\n\ndef get_prime_by_index(index):\n    number = 1\n    count = 0\n    while count < index:\n        number += 1\n        if is_prime(number):\n            count += 1\n    return number\n\nprint(get_prime_by_index(10001))",
      "execution_count": 7,
      "outputs": [
        {
          "name": "stdout",
          "output_type": "stream",
          "text": "104743\n"
        }
      ]
    },
    {
      "metadata": {},
      "cell_type": "markdown",
      "source": "### 8. Largest product in series"
    },
    {
      "metadata": {
        "trusted": false
      },
      "cell_type": "code",
      "source": "def product_from_str(string):\n    from functools import reduce\n    res = reduce(lambda x, y: int(x) * int(y) , string)\n    return res\n\ndef max_product(series, len_item):\n    series = series.replace('\\n', '')\n    series = series.replace('\\t', '')\n    series = series.replace(' ', '')\n    start_item = 0\n    end_item = len_item\n    list_of_product = []\n    for _ in range(len_item, len(series)):\n        list_of_product.append(product_from_str(series[start_item:end_item]))\n        start_item += 1\n        end_item += 1\n    res = max(list_of_product)\n    return res\n\nmax_product('''73167176531330624919225119674426574742355349194934\n             96983520312774506326239578318016984801869478851843\n             85861560789112949495459501737958331952853208805511\n             12540698747158523863050715693290963295227443043557\n             66896648950445244523161731856403098711121722383113\n             62229893423380308135336276614282806444486645238749\n             30358907296290491560440772390713810515859307960866\n             70172427121883998797908792274921901699720888093776\n             65727333001053367881220235421809751254540594752243\n             52584907711670556013604839586446706324415722155397\n             53697817977846174064955149290862569321978468622482\n             83972241375657056057490261407972968652414535100474\n             82166370484403199890008895243450658541227588666881\n             16427171479924442928230863465674813919123162824586\n             17866458359124566529476545682848912883142607690042\n             24219022671055626321111109370544217506941658960408\n             07198403850962455444362981230987879927244284909188\n             84580156166097919133875499200524063689912560717606\n             05886116467109405077541002256983155200055935729725\n             71636269561882670428252483600823257530420752963450''', 13)",
      "execution_count": 11,
      "outputs": [
        {
          "data": {
            "text/plain": "23514624000"
          },
          "execution_count": 11,
          "metadata": {},
          "output_type": "execute_result"
        }
      ]
    },
    {
      "metadata": {},
      "cell_type": "markdown",
      "source": "### 9. Special Pythagorean triplet"
    },
    {
      "metadata": {
        "trusted": false
      },
      "cell_type": "code",
      "source": "def pythagorean_triplet_from_sum(items_sum):\n    import math\n    for a in range(items_sum):\n        for b in range(a, items_sum):\n            c = math.sqrt(a**2 + b**2)\n            if a + b + c == 1000 and a < b < c:\n                return a, b, c\n\nfrom functools import reduce\nprint(reduce(lambda x, y: x*y, pythagorean_triplet_from_sum(1_000)))",
      "execution_count": 5,
      "outputs": [
        {
          "name": "stdout",
          "output_type": "stream",
          "text": "31875000.0\n"
        }
      ]
    },
    {
      "metadata": {},
      "cell_type": "markdown",
      "source": "### 10. Summation of primes"
    },
    {
      "metadata": {
        "trusted": false
      },
      "cell_type": "code",
      "source": "def is_prime(number: int):\n    import math\n    for i in range(2, int(math.sqrt(number)) + 1):\n        if number % i == 0:\n            return False\n    return True\n\ndef sum_of_primes(max_value: int):\n    res = sum(i for i in range(2, max_value) if is_prime(i))\n    return res\n\nprint(sum_of_primes(2_000_000))",
      "execution_count": 1,
      "outputs": [
        {
          "name": "stdout",
          "output_type": "stream",
          "text": "142913828922\n"
        }
      ]
    },
    {
      "metadata": {},
      "cell_type": "markdown",
      "source": "### 13. Large sum"
    },
    {
      "metadata": {
        "trusted": true
      },
      "cell_type": "code",
      "source": "def large_sum(str_of_numbers, count_of_digit: int=10):\n    '''\n    str_of_numbers is too long. take it on https://projecteuler.net/problem=13\n    result is 5537376230\n    '''\n    list_of_numbers = str_of_numbers.split()\n    res = str(sum(int(number) for number in list_of_numbers))[:count_of_digit]\n    return res",
      "execution_count": null,
      "outputs": []
    },
    {
      "metadata": {},
      "cell_type": "markdown",
      "source": "### 16. Power digit sum"
    },
    {
      "metadata": {
        "trusted": false
      },
      "cell_type": "code",
      "source": "from functools import reduce\n\ndef power_digit_sum(number: float, power: int) -> int:\n    power_digit = pow(number, power)\n    res = reduce(lambda x, y: x + y, [int(digit) for digit in str(power_digit)])\n    return res\n\npower_digit_sum(2, 1_000)",
      "execution_count": 3,
      "outputs": [
        {
          "data": {
            "text/plain": "1366"
          },
          "execution_count": 3,
          "metadata": {},
          "output_type": "execute_result"
        }
      ]
    },
    {
      "metadata": {},
      "cell_type": "markdown",
      "source": "### 20. Factorial digit sum"
    },
    {
      "metadata": {
        "trusted": false
      },
      "cell_type": "code",
      "source": "from functools import reduce\nfrom typing import List\n\ndef get_factorial(number: int) -> List:\n    ''' number! '''\n    factorial = reduce(lambda x, y: x * y, range(1, number + 1))\n    return factorial\n\ndef factorial_digit_sum(number: int) -> int:\n    factorial_digits = str(get_factorial(number))\n    res = sum(int(i) for i in factorial_digits)\n    return res\n\nfactorial_digit_sum(100)",
      "execution_count": 1,
      "outputs": [
        {
          "data": {
            "text/plain": "648"
          },
          "execution_count": 1,
          "metadata": {},
          "output_type": "execute_result"
        }
      ]
    }
  ],
  "metadata": {
    "kernelspec": {
      "name": "python3",
      "display_name": "Python 3",
      "language": "python"
    },
    "language_info": {
      "mimetype": "text/x-python",
      "nbconvert_exporter": "python",
      "name": "python",
      "file_extension": ".py",
      "version": "3.5.4",
      "pygments_lexer": "ipython3",
      "codemirror_mode": {
        "version": 3,
        "name": "ipython"
      }
    }
  },
  "nbformat": 4,
  "nbformat_minor": 4
}